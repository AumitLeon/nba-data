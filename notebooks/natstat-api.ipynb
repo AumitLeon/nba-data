{
 "cells": [
  {
   "cell_type": "code",
   "execution_count": 3,
   "metadata": {},
   "outputs": [
    {
     "data": {
      "text/plain": [
       "True"
      ]
     },
     "execution_count": 3,
     "metadata": {},
     "output_type": "execute_result"
    }
   ],
   "source": [
    "import httpx\n",
    "import json\n",
    "from dotenv import load_dotenv\n",
    "import os\n",
    "\n",
    "load_dotenv()\n"
   ]
  },
  {
   "cell_type": "code",
   "execution_count": null,
   "metadata": {},
   "outputs": [],
   "source": [
    "params = {\n",
    "    'key': os.getenv('NATSTAT_API_KEY'),\n",
    "    'format': 'json',\n",
    "    'start': '2015-11-26',\n",
    "    'max': 1\n",
    "}\n",
    "\n",
    "url = 'https://api.natstat.com/v1/playerperfs/NBA/'\n",
    "\n",
    "with httpx.Client(params=params) as client:\n",
    "    r = client.get(url,  params=params, timeout=60.0)\n",
    "\n",
    "print(r.json())"
   ]
  },
  {
   "cell_type": "code",
   "execution_count": 13,
   "metadata": {},
   "outputs": [],
   "source": [
    "from google.cloud import storage\n",
    "\n",
    "\n",
    "def write_to_gcs(project, bucket_name, blob_name, data):\n",
    "    \"\"\"Write and read a blob from GCS using file-like IO\"\"\"\n",
    "    storage_client = storage.Client(project=project)\n",
    "    bucket = storage_client.bucket(bucket_name)\n",
    "    blob = bucket.blob(blob_name)\n",
    "\n",
    "    # Mode can be specified as wb/rb for bytes mode.\n",
    "    # See: https://docs.python.org/3/library/io.html\n",
    "    with blob.open(\"w\") as f:\n",
    "        json.dump(data, f)"
   ]
  },
  {
   "cell_type": "code",
   "execution_count": 14,
   "metadata": {},
   "outputs": [],
   "source": [
    "write_to_gcs('ozymandias', 'natstat-nba-data', 'test.json', r.json())"
   ]
  }
 ],
 "metadata": {
  "kernelspec": {
   "display_name": ".venv",
   "language": "python",
   "name": "python3"
  },
  "language_info": {
   "codemirror_mode": {
    "name": "ipython",
    "version": 3
   },
   "file_extension": ".py",
   "mimetype": "text/x-python",
   "name": "python",
   "nbconvert_exporter": "python",
   "pygments_lexer": "ipython3",
   "version": "3.11.0"
  },
  "orig_nbformat": 4,
  "vscode": {
   "interpreter": {
    "hash": "8266c94e9b6a53696b2b67aacfbb742bc0cbb1f62b4a55743a53b41c65b9a3ae"
   }
  }
 },
 "nbformat": 4,
 "nbformat_minor": 2
}
